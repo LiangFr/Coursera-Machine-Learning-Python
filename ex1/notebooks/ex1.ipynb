{
 "cells": [
  {
   "cell_type": "code",
   "execution_count": 1,
   "metadata": {
    "collapsed": true
   },
   "outputs": [],
   "source": [
    "#Install dependecy\n",
    "\n",
    "import pandas as pd\n",
    "import matplotlib.pyplot as plt\n",
    "import numpy as np\n",
    "%matplotlib  inline"
   ]
  },
  {
   "cell_type": "code",
   "execution_count": 2,
   "metadata": {},
   "outputs": [
    {
     "data": {
      "text/html": [
       "<div>\n",
       "<style>\n",
       "    .dataframe thead tr:only-child th {\n",
       "        text-align: right;\n",
       "    }\n",
       "\n",
       "    .dataframe thead th {\n",
       "        text-align: left;\n",
       "    }\n",
       "\n",
       "    .dataframe tbody tr th {\n",
       "        vertical-align: top;\n",
       "    }\n",
       "</style>\n",
       "<table border=\"1\" class=\"dataframe\">\n",
       "  <thead>\n",
       "    <tr style=\"text-align: right;\">\n",
       "      <th></th>\n",
       "      <th>Population</th>\n",
       "      <th>Profit</th>\n",
       "    </tr>\n",
       "  </thead>\n",
       "  <tbody>\n",
       "    <tr>\n",
       "      <th>0</th>\n",
       "      <td>6.1101</td>\n",
       "      <td>17.5920</td>\n",
       "    </tr>\n",
       "    <tr>\n",
       "      <th>1</th>\n",
       "      <td>5.5277</td>\n",
       "      <td>9.1302</td>\n",
       "    </tr>\n",
       "    <tr>\n",
       "      <th>2</th>\n",
       "      <td>8.5186</td>\n",
       "      <td>13.6620</td>\n",
       "    </tr>\n",
       "    <tr>\n",
       "      <th>3</th>\n",
       "      <td>7.0032</td>\n",
       "      <td>11.8540</td>\n",
       "    </tr>\n",
       "    <tr>\n",
       "      <th>4</th>\n",
       "      <td>5.8598</td>\n",
       "      <td>6.8233</td>\n",
       "    </tr>\n",
       "  </tbody>\n",
       "</table>\n",
       "</div>"
      ],
      "text/plain": [
       "   Population   Profit\n",
       "0      6.1101  17.5920\n",
       "1      5.5277   9.1302\n",
       "2      8.5186  13.6620\n",
       "3      7.0032  11.8540\n",
       "4      5.8598   6.8233"
      ]
     },
     "execution_count": 2,
     "metadata": {},
     "output_type": "execute_result"
    }
   ],
   "source": [
    "# load the dataset\n",
    "\n",
    "df = pd.read_csv('ex1data1.txt',names = ['Population','Profit'])\n",
    "df.head()"
   ]
  },
  {
   "cell_type": "code",
   "execution_count": 3,
   "metadata": {},
   "outputs": [
    {
     "data": {
      "image/png": "[encoded data removed]",
      "text/plain": [
       "<matplotlib.figure.Figure at 0x7f4399021290>"
      ]
     },
     "metadata": {},
     "output_type": "display_data"
    }
   ],
   "source": [
    "#Plot the data with scaled units\n",
    "\n",
    "plt.scatter(df['Population'],df['Profit'],c='r')\n",
    "plt.xlabel('Population/(10,000)')\n",
    "plt.ylabel('Profit/(10,000)')\n",
    "plt.show()"
   ]
  },
  {
   "cell_type": "code",
   "execution_count": 4,
   "metadata": {},
   "outputs": [],
   "source": [
    "# making data\n",
    "X = df.as_matrix(columns = ['Population'])\n",
    "y = df.as_matrix(columns = ['Profit'])\n",
    "\n",
    "# No of exaples \n",
    "m = X.shape[0]\n",
    "\n",
    "# No of features \n",
    "n = y.shape[1] + 1\n",
    "\n",
    "#Initialize theta\n",
    "theta = np.zeros(n)\n",
    "theta = theta.reshape((len(theta), 1))\n",
    "\n",
    "#adding extra feature theta0 as 1 \n",
    "X = np.append(np.ones((m, 1)), X,axis=1)"
   ]
  },
  {
   "cell_type": "code",
   "execution_count": 5,
   "metadata": {},
   "outputs": [],
   "source": [
    "# Compute Cost function\n",
    "def computeCost(X, y, theta):\n",
    "    m  = y.size\n",
    "    h = np.dot(X,theta)\n",
    "    J = (np.sum(np.square(h-y))) / (2 * m)\n",
    "    return J"
   ]
  },
  {
   "cell_type": "code",
   "execution_count": 6,
   "metadata": {
    "collapsed": true
   },
   "outputs": [],
   "source": [
    "# Calucating cost function and theta\n",
    "\n",
    "\n",
    "def gradientDescent(X, y, theta, alpha, num_iters):\n",
    "    \"\"\"\n",
    "     Performs gradient descent to learn theta\n",
    "       theta = gradientDescent(x, y, theta, alpha, num_iters) updates theta by\n",
    "       taking num_iters gradient steps with learning rate alpha\n",
    "    \"\"\"\n",
    "\n",
    "    # Initialize some useful values\n",
    "    J_history = []\n",
    "    m = y.size  # number of training examples\n",
    "\n",
    "    for i in range(num_iters):\n",
    "\n",
    "        h = np.dot(X, theta)\n",
    "        theta = theta - ((alpha / m) * (np.dot(X.T,(h - y)))) \n",
    "        \n",
    "        \n",
    "        # Save the cost J in every iteration\n",
    "        J_history.append(computeCost(X, y, theta)) \n",
    "    return theta,J_history[len(J_history)-1]\n",
    "\n",
    "\n"
   ]
  },
  {
   "cell_type": "code",
   "execution_count": 7,
   "metadata": {},
   "outputs": [
    {
     "name": "stdout",
     "output_type": "stream",
     "text": [
      "('loss :', 4.4833882565877259)\n",
      "('fibnal theta :', array([[-3.63029144],\n",
      "       [ 1.16636235]]))\n"
     ]
    }
   ],
   "source": [
    "final_theta,loss = gradientDescent(X, y, theta, 0.01, 1500)\n",
    "print('loss :',loss)\n",
    "print('fibnal theta :',final_theta)"
   ]
  },
  {
   "cell_type": "code",
   "execution_count": 8,
   "metadata": {
    "collapsed": true
   },
   "outputs": [],
   "source": [
    "x_line = np.arange(1,23).reshape(-1,1)\n",
    "y_line = final_theta[0] + x_line * final_theta[1]"
   ]
  },
  {
   "cell_type": "code",
   "execution_count": 9,
   "metadata": {},
   "outputs": [
    {
     "data": {
      "image/png": "[encoded data removed]",
      "text/plain": [
       "<matplotlib.figure.Figure at 0x7f439688b9d0>"
      ]
     },
     "metadata": {},
     "output_type": "display_data"
    }
   ],
   "source": [
    "plt.scatter(df['Population'],df['Profit'],c='r',label='given')\n",
    "plt.xlabel('Population/(10,000)')\n",
    "plt.ylabel('Profit/(10,000)')\n",
    "plt.plot(x_line,y_line,label='predicted')\n",
    "plt.legend()\n",
    "plt.show()"
   ]
  }
 ],
 "metadata": {
  "kernelspec": {
   "display_name": "bat",
   "language": "python",
   "name": "bat"
  },
  "language_info": {
   "codemirror_mode": {
    "name": "ipython",
    "version": 2
   },
   "file_extension": ".py",
   "mimetype": "text/x-python",
   "name": "python",
   "nbconvert_exporter": "python",
   "pygments_lexer": "ipython2",
   "version": "2.7.13"
  }
 },
 "nbformat": 4,
 "nbformat_minor": 1
}
